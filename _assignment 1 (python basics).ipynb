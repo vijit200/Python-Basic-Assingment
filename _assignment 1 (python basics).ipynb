{
 "cells": [
  {
   "cell_type": "markdown",
   "id": "9b2117b3",
   "metadata": {},
   "source": [
    "1. In the below elements which of them are values or an expression? eg:- values can be integer or string and expressions will be mathematical operators.\n",
    "\n",
    "ANS) a) * this is an expression.\n",
    "b)\"hello\" this is an value\n",
    "c) -87.8 this is an value\n",
    "d) - this is an expression.\n",
    "e) / this is an expression.\n",
    "f) + this is an expression.\n",
    "g) 6 this is an value\n"
   ]
  },
  {
   "cell_type": "markdown",
   "id": "ada93987",
   "metadata": {},
   "source": [
    "2. What is the difference between string and variable?\n",
    "\n",
    " ANS) A Variable is used to store the information, and a String(data type) is a type of information you would store in a Variable."
   ]
  },
  {
   "cell_type": "markdown",
   "id": "c7a847e7",
   "metadata": {},
   "source": [
    "3. Describe three different data types.\n",
    "\n",
    "ANS) Sequence Types: range, tuple, list.\n",
    "Numeric Types: complex, float, int.\n",
    "Text Type: str\n",
    "Boolean Type: bool.\n"
   ]
  },
  {
   "cell_type": "markdown",
   "id": "136b59cc",
   "metadata": {},
   "source": [
    "4. What is an expression made up of? What do all expressions do?\n",
    "\n",
    "ANS) An expression is a combination of operators and operands that is interpreted to produce some other value.\n"
   ]
  },
  {
   "cell_type": "markdown",
   "id": "a9c93807",
   "metadata": {},
   "source": [
    "5. This assignment statements, like spam = 10. What is the difference between an expression and a statement?\n",
    "\n",
    "ANS) Expression is made up of values, containers, and mathematical operators (operands) and the statement is just like a command that a python interpreter executes like print."
   ]
  },
  {
   "cell_type": "markdown",
   "id": "72e8d7c1",
   "metadata": {},
   "source": [
    "6. After running the following code, what does the variable bacon contain?\n",
    "bacon = 22\n",
    "bacon + 1"
   ]
  },
  {
   "cell_type": "code",
   "execution_count": 1,
   "id": "f647cc60",
   "metadata": {},
   "outputs": [
    {
     "name": "stdout",
     "output_type": "stream",
     "text": [
      "22\n"
     ]
    }
   ],
   "source": [
    "bacon = 22\n",
    "bacon + 1\n",
    "print(bacon)"
   ]
  },
  {
   "cell_type": "markdown",
   "id": "2ec7471c",
   "metadata": {},
   "source": [
    "7. What should the values of the following two terms be?\n",
    "'spam'+'spamspam'\n",
    "'spam'*3"
   ]
  },
  {
   "cell_type": "code",
   "execution_count": 3,
   "id": "1d6bbaaa",
   "metadata": {},
   "outputs": [
    {
     "data": {
      "text/plain": [
       "'spamspamspam'"
      ]
     },
     "execution_count": 3,
     "metadata": {},
     "output_type": "execute_result"
    }
   ],
   "source": [
    "'spam'+'spamspam'\n"
   ]
  },
  {
   "cell_type": "code",
   "execution_count": 4,
   "id": "2d102c9b",
   "metadata": {},
   "outputs": [
    {
     "data": {
      "text/plain": [
       "'spamspamspam'"
      ]
     },
     "execution_count": 4,
     "metadata": {},
     "output_type": "execute_result"
    }
   ],
   "source": [
    "'spam'*3\n"
   ]
  },
  {
   "cell_type": "markdown",
   "id": "bc3ec8cd",
   "metadata": {},
   "source": [
    "8. Why is eggs a valid variable name while 100 is invalid?\n",
    "ANS) egg is vaild variable name and 100 is invalid because an variable name cannot begin with number."
   ]
  },
  {
   "cell_type": "markdown",
   "id": "de7646c8",
   "metadata": {},
   "source": [
    "9. What three functions can be used to get the integer, floating-point number, or string\n",
    "version of a value?\n",
    "\n",
    "ANS) The int() , float() , and str( ) functions will evaluate to the integer, floating-point number, and string versions of the value passed to them."
   ]
  },
  {
   "cell_type": "markdown",
   "id": "78c9895a",
   "metadata": {},
   "source": [
    "10. Why does this expression cause an error? How can you fix it?\n",
    "'I have eaten'+99+'burritos'\n",
    "\n",
    "ANS) this statement gives an error because we are trying to add an string and an numeric value which isnt acceptable .\n",
    "we can fix it by doing following "
   ]
  },
  {
   "cell_type": "code",
   "execution_count": 5,
   "id": "e58b77bf",
   "metadata": {},
   "outputs": [
    {
     "data": {
      "text/plain": [
       "'I have eaten99burritos'"
      ]
     },
     "execution_count": 5,
     "metadata": {},
     "output_type": "execute_result"
    }
   ],
   "source": [
    "'I have eaten'+'99'+'burritos'\n"
   ]
  }
 ],
 "metadata": {
  "kernelspec": {
   "display_name": "Python 3 (ipykernel)",
   "language": "python",
   "name": "python3"
  },
  "language_info": {
   "codemirror_mode": {
    "name": "ipython",
    "version": 3
   },
   "file_extension": ".py",
   "mimetype": "text/x-python",
   "name": "python",
   "nbconvert_exporter": "python",
   "pygments_lexer": "ipython3",
   "version": "3.9.7"
  }
 },
 "nbformat": 4,
 "nbformat_minor": 5
}
