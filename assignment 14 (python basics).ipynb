{
 "cells": [
  {
   "cell_type": "markdown",
   "id": "2276732b",
   "metadata": {},
   "source": [
    "1. What does RGBA stand for?\n",
    "\n",
    "ANS)RGBA stands for red, green, blue, and alpha (transparency) in the color\n",
    "An RGBA value is a tuple of 4 integers, each ranging from 0 to 255. The four integers correspond to the amount of red, green, blue, and alpha (transparency) in the color"
   ]
  },
  {
   "cell_type": "markdown",
   "id": "99073c27",
   "metadata": {},
   "source": [
    "2. From the Pillow module, how do you get the RGBA value of any images?"
   ]
  },
  {
   "cell_type": "code",
   "execution_count": 1,
   "id": "f38b8a31",
   "metadata": {},
   "outputs": [
    {
     "data": {
      "text/plain": [
       "(255, 0, 0, 255)"
      ]
     },
     "execution_count": 1,
     "metadata": {},
     "output_type": "execute_result"
    }
   ],
   "source": [
    "# CODE FOR GETTING RGBA VALUE OF ANY IMAGE\n",
    "from PIL import ImageColor\n",
    "ImageColor.getcolor('green', 'RGBA')\n",
    "ImageColor.getcolor('red', 'RGBA')"
   ]
  },
  {
   "cell_type": "markdown",
   "id": "59f44db4",
   "metadata": {},
   "source": [
    "3. What is a box tuple, and how does it work?\n",
    "\n",
    "ANS)A box tuple is a tuple value of four integers: the left edge x-coordinate, the top edge y-coordinate, the width, and the height, respectively"
   ]
  },
  {
   "cell_type": "markdown",
   "id": "30cfc391",
   "metadata": {},
   "source": [
    "4. Use your image and load in notebook then, How can you find out the width and height of an\n",
    "Image object?\n",
    "\n",
    "ANS) USING THE FOLLOWING CODE WE CAN FIND IT:\n",
    "from google.colab import files\n",
    "uploaded = files.upload()\n",
    "from PIL import Image\n",
    "myImg = Image.open('shiva.jpg')\n",
    "w,h = myImg.size\n",
    "w,h"
   ]
  },
  {
   "cell_type": "markdown",
   "id": "25311dc0",
   "metadata": {},
   "source": [
    "5. What method would you call to get Image object for a 100×100 image, excluding the lower-left\n",
    "quarter of it?\n",
    "\n",
    "ANS) ImageObject.crop((0, 50, 50, 50))"
   ]
  },
  {
   "cell_type": "markdown",
   "id": "b78c61be",
   "metadata": {},
   "source": [
    "6. After making changes to an Image object, how could you save it as an image file?\n",
    "\n",
    "ANS)By Calling the imageObj.save('new_filename.png') method of the Image object."
   ]
  },
  {
   "cell_type": "markdown",
   "id": "a01a697f",
   "metadata": {},
   "source": [
    "7. What module contains Pillow’s shape-drawing code?\n",
    "\n",
    "ANS) The ImageDraw module contains code to draw on images"
   ]
  },
  {
   "cell_type": "markdown",
   "id": "414660b1",
   "metadata": {},
   "source": [
    "8. Image objects do not have drawing methods. What kind of object does? How do you get this kind\n",
    "of object?\n",
    "\n",
    "ANS). ImageDraw objects have shape-drawing methods such as point(), line(), or rectangle(). They are returned by passing the Image object to the ImageDraw.Draw() function"
   ]
  }
 ],
 "metadata": {
  "kernelspec": {
   "display_name": "Python 3 (ipykernel)",
   "language": "python",
   "name": "python3"
  },
  "language_info": {
   "codemirror_mode": {
    "name": "ipython",
    "version": 3
   },
   "file_extension": ".py",
   "mimetype": "text/x-python",
   "name": "python",
   "nbconvert_exporter": "python",
   "pygments_lexer": "ipython3",
   "version": "3.9.7"
  }
 },
 "nbformat": 4,
 "nbformat_minor": 5
}
