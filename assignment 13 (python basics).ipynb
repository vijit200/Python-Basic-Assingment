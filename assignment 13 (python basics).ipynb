{
 "cells": [
  {
   "cell_type": "markdown",
   "id": "c0ba893c",
   "metadata": {},
   "source": [
    "1. What advantages do Excel spreadsheets have over CSV spreadsheets?\n",
    "ANS) Excel is more superior when compared with the CSV file format; thus, CSV consumes less amount of file size when the user is importing data; it is a much faster format compared to excel. CSV does not manipulate data and stores it as-is. Excel also allows the user the add-in feature."
   ]
  },
  {
   "cell_type": "markdown",
   "id": "f325ef47",
   "metadata": {},
   "source": [
    "2.What do you pass to csv.reader() and csv.writer() to create reader and writer objects?\n",
    "\n",
    "ANS) 2.What do you pass to csv.reader() and csv.writer() to create reader and writer objects?"
   ]
  },
  {
   "cell_type": "markdown",
   "id": "08e5ef99",
   "metadata": {},
   "source": [
    "3. What modes do File objects for reader and writer objects need to be opened in?\n",
    "\n",
    "ANS)In order to open a file for reading or writing purposes, we must use the built-in open() function. The open() function uses two arguments. First is the name of the file and second is for what purpose we want to open it .\n",
    "r - open a file in read mode. w - opens or create a text file in write mode."
   ]
  },
  {
   "cell_type": "markdown",
   "id": "e0a48c82",
   "metadata": {},
   "source": [
    "4. What method takes a list argument and writes it to a CSV file?\n",
    "\n",
    "ANS)The csv. writer writerow method takes an iterable as an argument. Your result set has to be a list (rows) of lists (columns). Write the row parameter to the writer's file object, formatted according to the current dialect."
   ]
  },
  {
   "cell_type": "markdown",
   "id": "280a9db1",
   "metadata": {},
   "source": [
    "5. What do the keyword arguments delimiter and line terminator do?\n",
    "\n",
    "ANS) This changes the delimiter and line terminator characters in your file. The delimiter is the character that appears between cells on a row. By default, the delimiter for a CSV file is a comma. The line terminator is the character that comes at the end of a row."
   ]
  },
  {
   "cell_type": "markdown",
   "id": "1e84938c",
   "metadata": {},
   "source": [
    "6. What function takes a string of JSON data and returns a Python data structure?\n",
    "\n",
    "ANS) loads() method return Python data structure of JSON string or data."
   ]
  },
  {
   "cell_type": "markdown",
   "id": "2ba637c8",
   "metadata": {},
   "source": [
    "7. What function takes a Python data structure and returns a string of JSON data?\n",
    "\n",
    "ANS) JSON in Python using the json. loads() function."
   ]
  }
 ],
 "metadata": {
  "kernelspec": {
   "display_name": "Python 3 (ipykernel)",
   "language": "python",
   "name": "python3"
  },
  "language_info": {
   "codemirror_mode": {
    "name": "ipython",
    "version": 3
   },
   "file_extension": ".py",
   "mimetype": "text/x-python",
   "name": "python",
   "nbconvert_exporter": "python",
   "pygments_lexer": "ipython3",
   "version": "3.9.7"
  }
 },
 "nbformat": 4,
 "nbformat_minor": 5
}
